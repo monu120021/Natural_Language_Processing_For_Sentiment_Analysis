{
 "cells": [
  {
   "cell_type": "markdown",
   "id": "063482d9",
   "metadata": {},
   "source": [
    "# Sentiment Analysis using NLP\n",
    "This notebook performs sentiment analysis on movie reviews using TextBlob."
   ]
  },
  {
   "cell_type": "code",
   "execution_count": null,
   "id": "c0ede1dc",
   "metadata": {},
   "outputs": [],
   "source": [
    "!pip install textblob"
   ]
  },
  {
   "cell_type": "code",
   "execution_count": null,
   "id": "a9e8df3c",
   "metadata": {},
   "outputs": [],
   "source": [
    "import nltk\n",
    "nltk.download('punkt')"
   ]
  },
  {
   "cell_type": "markdown",
   "id": "ff021825",
   "metadata": {},
   "source": [
    "## Import Libraries"
   ]
  },
  {
   "cell_type": "code",
   "execution_count": null,
   "id": "49a10324",
   "metadata": {},
   "outputs": [],
   "source": [
    "import pandas as pd\n",
    "import numpy as np\n",
    "import matplotlib.pyplot as plt\n",
    "import seaborn as sns\n",
    "from textblob import TextBlob\n",
    "import re"
   ]
  },
  {
   "cell_type": "markdown",
   "id": "c54b1ff6",
   "metadata": {},
   "source": [
    "## Load Dataset\n",
    "Upload the IMDB Dataset CSV file."
   ]
  },
  {
   "cell_type": "code",
   "execution_count": null,
   "id": "4f6a1d3b",
   "metadata": {},
   "outputs": [],
   "source": [
    "from google.colab import files\n",
    "uploaded = files.upload()\n",
    "df = pd.read_csv('IMDB Dataset.csv')\n",
    "df.head()"
   ]
  },
  {
   "cell_type": "markdown",
   "id": "40f819d7",
   "metadata": {},
   "source": [
    "## Clean the Text"
   ]
  },
  {
   "cell_type": "code",
   "execution_count": null,
   "id": "71aa0065",
   "metadata": {},
   "outputs": [],
   "source": [
    "def clean_text(text):\n",
    "    text = re.sub(r'<.*?>', '', text)\n",
    "    text = re.sub(r'[^a-zA-Z ]', '', text)\n",
    "    return text.lower()\n",
    "\n",
    "df['clean_review'] = df['review'].apply(clean_text)\n",
    "df.head()"
   ]
  },
  {
   "cell_type": "markdown",
   "id": "67204db0",
   "metadata": {},
   "source": [
    "## Sentiment Analysis using TextBlob"
   ]
  },
  {
   "cell_type": "code",
   "execution_count": null,
   "id": "299a09f6",
   "metadata": {},
   "outputs": [],
   "source": [
    "def get_sentiment(text):\n",
    "    blob = TextBlob(text)\n",
    "    polarity = blob.sentiment.polarity\n",
    "    if polarity > 0:\n",
    "        return 'positive'\n",
    "    elif polarity < 0:\n",
    "        return 'negative'\n",
    "    else:\n",
    "        return 'neutral'\n",
    "\n",
    "df['sentiment'] = df['clean_review'].apply(get_sentiment)\n",
    "df[['review', 'sentiment']].head()"
   ]
  },
  {
   "cell_type": "markdown",
   "id": "2bd3f597",
   "metadata": {},
   "source": [
    "## Visualize the Sentiments"
   ]
  },
  {
   "cell_type": "code",
   "execution_count": null,
   "id": "05e85b84",
   "metadata": {},
   "outputs": [],
   "source": [
    "sns.countplot(x='sentiment', data=df)\n",
    "plt.title('Sentiment Distribution')\n",
    "plt.show()"
   ]
  },
  {
   "cell_type": "markdown",
   "id": "524e06c9",
   "metadata": {},
   "source": [
    "## (Optional) Naive Bayes Classifier"
   ]
  },
  {
   "cell_type": "code",
   "execution_count": null,
   "id": "27df17e0",
   "metadata": {},
   "outputs": [],
   "source": [
    "from sklearn.feature_extraction.text import CountVectorizer\n",
    "from sklearn.naive_bayes import MultinomialNB\n",
    "from sklearn.model_selection import train_test_split\n",
    "from sklearn.metrics import accuracy_score\n",
    "\n",
    "cv = CountVectorizer()\n",
    "X = cv.fit_transform(df['clean_review'])\n",
    "y = df['sentiment']\n",
    "\n",
    "X_train, X_test, y_train, y_test = train_test_split(X, y, test_size=0.2, random_state=42)\n",
    "\n",
    "model = MultinomialNB()\n",
    "model.fit(X_train, y_train)\n",
    "y_pred = model.predict(X_test)\n",
    "\n",
    "print('Accuracy:', accuracy_score(y_test, y_pred))"
   ]
  }
 ],
 "metadata": {},
 "nbformat": 4,
 "nbformat_minor": 5
}